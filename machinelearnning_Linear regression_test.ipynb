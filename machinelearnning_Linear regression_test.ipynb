{
  "nbformat": 4,
  "nbformat_minor": 0,
  "metadata": {
    "colab": {
      "name": "machinelearnning_test.ipynb",
      "provenance": [],
      "authorship_tag": "ABX9TyNQ4LI73wXU2SiOuCkEiVG7",
      "include_colab_link": true
    },
    "kernelspec": {
      "name": "python3",
      "display_name": "Python 3"
    }
  },
  "cells": [
    {
      "cell_type": "markdown",
      "metadata": {
        "id": "view-in-github",
        "colab_type": "text"
      },
      "source": [
        "<a href=\"https://colab.research.google.com/github/kongqiahaha/python-/blob/master/machinelearnning_Linear%20regression_test.ipynb\" target=\"_parent\"><img src=\"https://colab.research.google.com/assets/colab-badge.svg\" alt=\"Open In Colab\"/></a>"
      ]
    },
    {
      "cell_type": "code",
      "metadata": {
        "id": "MrekfeL6TOXQ",
        "colab_type": "code",
        "colab": {
          "base_uri": "https://localhost:8080/",
          "height": 64
        },
        "outputId": "71b1d0f2-d9b9-4d11-b6ed-8faf48f6f378"
      },
      "source": [
        "import numpy as np\n",
        "import pandas as pd\n",
        "import tensorflow as tf\n",
        "import matplotlib.pyplot as plt\n",
        "import random as rd\n",
        "import scipy as sc\n"
      ],
      "execution_count": 2,
      "outputs": [
        {
          "output_type": "display_data",
          "data": {
            "text/html": [
              "<p style=\"color: red;\">\n",
              "The default version of TensorFlow in Colab will soon switch to TensorFlow 2.x.<br>\n",
              "We recommend you <a href=\"https://www.tensorflow.org/guide/migrate\" target=\"_blank\">upgrade</a> now \n",
              "or ensure your notebook will continue to use TensorFlow 1.x via the <code>%tensorflow_version 1.x</code> magic:\n",
              "<a href=\"https://colab.research.google.com/notebooks/tensorflow_version.ipynb\" target=\"_blank\">more info</a>.</p>\n"
            ],
            "text/plain": [
              "<IPython.core.display.HTML object>"
            ]
          },
          "metadata": {
            "tags": []
          }
        }
      ]
    },
    {
      "cell_type": "code",
      "metadata": {
        "id": "09U5Uphmzhj6",
        "colab_type": "code",
        "colab": {}
      },
      "source": [
        "theta0=1\n",
        "theta1=1\n",
        "theta = np.matrix([theta0,theta1])\n",
        "x=np.matrix([[1,2404,5,1,45],[1,1416,3,2,40],[1,1534,3,2,30],[1,852,2,1,36]])\n",
        "y=np.matrix([460,232,315,178])\n",
        "y=y.T"
      ],
      "execution_count": 0,
      "outputs": []
    },
    {
      "cell_type": "code",
      "metadata": {
        "id": "xMbasyVHTzVU",
        "colab_type": "code",
        "outputId": "89a83717-9cf4-4561-ee4d-a51ac9b7089f",
        "colab": {
          "base_uri": "https://localhost:8080/",
          "height": 143
        }
      },
      "source": [
        "theta=np.dot(np.dot(np.linalg.pinv(np.dot(x.T,x)),x.T),y)\n",
        "print(theta)\n",
        "c=np.matrix([1,2312,6,2,42])\n",
        "s=np.dot(theta.T,c.T)\n",
        "print(s)\n",
        "print(np.var(np.dot(x,theta)-y))\n"
      ],
      "execution_count": 49,
      "outputs": [
        {
          "output_type": "stream",
          "text": [
            "[[237.55054241]\n",
            " [  0.29370459]\n",
            " [-43.44031481]\n",
            " [-48.87192813]\n",
            " [ -4.83428589]]\n",
            "[[355.16979281]]\n",
            "1.020963665911558e-18\n"
          ],
          "name": "stdout"
        }
      ]
    }
  ]
}