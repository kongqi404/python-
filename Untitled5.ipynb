{
  "nbformat": 4,
  "nbformat_minor": 0,
  "metadata": {
    "colab": {
      "name": "Untitled5.ipynb",
      "provenance": [],
      "collapsed_sections": [],
      "mount_file_id": "1l6IsJJJyFsHOttEcsDDAdCKX8lBSnwwu",
      "authorship_tag": "ABX9TyOjH8ILLovCrJq2wV6LzZ6N",
      "include_colab_link": true
    },
    "kernelspec": {
      "name": "python3",
      "display_name": "Python 3"
    },
    "accelerator": "GPU"
  },
  "cells": [
    {
      "cell_type": "markdown",
      "metadata": {
        "id": "view-in-github",
        "colab_type": "text"
      },
      "source": [
        "<a href=\"https://colab.research.google.com/github/kongqiahaha/python-/blob/master/Untitled5.ipynb\" target=\"_parent\"><img src=\"https://colab.research.google.com/assets/colab-badge.svg\" alt=\"Open In Colab\"/></a>"
      ]
    },
    {
      "cell_type": "code",
      "metadata": {
        "id": "5E4u20TYd4Jw",
        "colab_type": "code",
        "colab": {}
      },
      "source": [
        "%tensorflow_version 2.x"
      ],
      "execution_count": 1,
      "outputs": []
    },
    {
      "cell_type": "code",
      "metadata": {
        "id": "-0BPAn0OdTfU",
        "colab_type": "code",
        "colab": {}
      },
      "source": [
        "import matplotlib.pyplot as plt\n",
        "import numpy as np\n",
        "import tensorflow as tf\n",
        "import os\n",
        "import cv2"
      ],
      "execution_count": 2,
      "outputs": []
    },
    {
      "cell_type": "code",
      "metadata": {
        "id": "3JWSO-KPKyN-",
        "colab_type": "code",
        "colab": {}
      },
      "source": [
        "def slice(image,set_s):\n",
        "  for i in range(image.shape[0]//16+(image.shape[0]%16!=0)*1):\n",
        "    for j in range(image.shape[1]//16+(image.shape[1]%16!=0)*1):\n",
        "      set_s.append(cv2.resize(image[16*i:16*(i+1),16*j:16*(j+1),:],(16,16)))"
      ],
      "execution_count": 3,
      "outputs": []
    },
    {
      "cell_type": "code",
      "metadata": {
        "id": "I8hkYh0dSiHU",
        "colab_type": "code",
        "colab": {}
      },
      "source": [
        "set_x = []\n",
        "set_y=[]\n",
        "directory_name = r\"/content/drive/My Drive/data/SRCNN\"\n",
        "r=0\n",
        "for i in os.listdir(directory_name + \"/srcnn_y\"):\n",
        "  r+=1\n",
        "  if r<=100:\n",
        "    image_x = cv2.imread(directory_name + r\"/srcnn_x/\"+str(i))\n",
        "    image_y = cv2.imread(directory_name + r\"/srcnn_y/\"+str(i))\n",
        "    slice(image_x,set_x)\n",
        "    slice(image_y,set_y)\n",
        "  else:\n",
        "    break\n",
        " \n",
        " \n",
        "set_x = np.array(set_x)\n",
        "set_y = np.array(set_y)"
      ],
      "execution_count": 10,
      "outputs": []
    },
    {
      "cell_type": "code",
      "metadata": {
        "id": "TF9m_GSld9JG",
        "colab_type": "code",
        "colab": {}
      },
      "source": [
        "def Model():\n",
        "  models = tf.keras.Sequential(name=\"srcnn\")\n",
        "  models.add(tf.keras.layers.Conv2D(64,9,padding='SAME',activation=tf.keras.activations.relu,input_shape=(16,16,3,)))\n",
        "  models.add(tf.keras.layers.Conv2D(32,3,padding='SAME',activation=tf.keras.activations.relu))\n",
        "  \"\"\"\n",
        "  1*1卷积为可选\n",
        "  \"\"\"\n",
        "  models.add(tf.keras.layers.Conv2D(32,1,activation=tf.keras.activations.relu))\n",
        "  models.add(tf.keras.layers.Conv2D(3,5,padding='SAME'))\n",
        "  models.compile(optimizer='adam',loss=tf.keras.losses.MSE,metrics=[\"accuracy\"])\n",
        "  return models"
      ],
      "execution_count": 11,
      "outputs": []
    },
    {
      "cell_type": "code",
      "metadata": {
        "id": "BLkgQPYlhu9w",
        "colab_type": "code",
        "colab": {}
      },
      "source": [
        "model =Model()"
      ],
      "execution_count": 12,
      "outputs": []
    },
    {
      "cell_type": "code",
      "metadata": {
        "id": "YIedde0fh6sm",
        "colab_type": "code",
        "colab": {
          "base_uri": "https://localhost:8080/",
          "height": 305
        },
        "outputId": "d2709f8c-073e-44a7-8e98-a5ddb23cf2de"
      },
      "source": [
        "model.summary()"
      ],
      "execution_count": 13,
      "outputs": [
        {
          "output_type": "stream",
          "text": [
            "Model: \"srcnn\"\n",
            "_________________________________________________________________\n",
            "Layer (type)                 Output Shape              Param #   \n",
            "=================================================================\n",
            "conv2d (Conv2D)              (None, 16, 16, 64)        15616     \n",
            "_________________________________________________________________\n",
            "conv2d_1 (Conv2D)            (None, 16, 16, 32)        18464     \n",
            "_________________________________________________________________\n",
            "conv2d_2 (Conv2D)            (None, 16, 16, 32)        1056      \n",
            "_________________________________________________________________\n",
            "conv2d_3 (Conv2D)            (None, 16, 16, 3)         2403      \n",
            "=================================================================\n",
            "Total params: 37,539\n",
            "Trainable params: 37,539\n",
            "Non-trainable params: 0\n",
            "_________________________________________________________________\n"
          ],
          "name": "stdout"
        }
      ]
    },
    {
      "cell_type": "code",
      "metadata": {
        "id": "9F-6NCe_Q2Y8",
        "colab_type": "code",
        "colab": {
          "base_uri": "https://localhost:8080/",
          "height": 35
        },
        "outputId": "93397098-98ec-49cc-c907-e33567052144"
      },
      "source": [
        "print(set_x[1].shape)"
      ],
      "execution_count": null,
      "outputs": [
        {
          "output_type": "stream",
          "text": [
            "(416, 184, 3)\n"
          ],
          "name": "stdout"
        }
      ]
    },
    {
      "cell_type": "code",
      "metadata": {
        "id": "kMhR33gMkulp",
        "colab_type": "code",
        "colab": {
          "base_uri": "https://localhost:8080/",
          "height": 539
        },
        "outputId": "54d0c621-62e3-4471-c738-3b398ab7ec6d"
      },
      "source": [
        "model.fit(set_x,set_y, epochs=15,shuffle=True)"
      ],
      "execution_count": 14,
      "outputs": [
        {
          "output_type": "stream",
          "text": [
            "Epoch 1/15\n",
            "10239/10239 [==============================] - 31s 3ms/step - loss: 200.1122 - accuracy: 0.7060\n",
            "Epoch 2/15\n",
            "10239/10239 [==============================] - 30s 3ms/step - loss: 144.1193 - accuracy: 0.7107\n",
            "Epoch 3/15\n",
            "10239/10239 [==============================] - 30s 3ms/step - loss: 137.0258 - accuracy: 0.7081\n",
            "Epoch 4/15\n",
            "10239/10239 [==============================] - 30s 3ms/step - loss: 133.0033 - accuracy: 0.7107\n",
            "Epoch 5/15\n",
            "10239/10239 [==============================] - 29s 3ms/step - loss: 130.2868 - accuracy: 0.7134\n",
            "Epoch 6/15\n",
            "10239/10239 [==============================] - 30s 3ms/step - loss: 128.7326 - accuracy: 0.7155\n",
            "Epoch 7/15\n",
            "10239/10239 [==============================] - 29s 3ms/step - loss: 126.5982 - accuracy: 0.7168\n",
            "Epoch 9/15\n",
            "10239/10239 [==============================] - 31s 3ms/step - loss: 125.6963 - accuracy: 0.7156\n",
            "Epoch 10/15\n",
            "10239/10239 [==============================] - 29s 3ms/step - loss: 125.1606 - accuracy: 0.7158\n",
            "Epoch 11/15\n",
            "10239/10239 [==============================] - 29s 3ms/step - loss: 124.6746 - accuracy: 0.7164\n",
            "Epoch 12/15\n",
            "10239/10239 [==============================] - 30s 3ms/step - loss: 124.4361 - accuracy: 0.7153\n",
            "Epoch 13/15\n",
            "10239/10239 [==============================] - 29s 3ms/step - loss: 123.9323 - accuracy: 0.7156\n",
            "Epoch 14/15\n",
            "10239/10239 [==============================] - 29s 3ms/step - loss: 123.7263 - accuracy: 0.7165\n",
            "Epoch 15/15\n",
            "10239/10239 [==============================] - 30s 3ms/step - loss: 123.3871 - accuracy: 0.7149\n"
          ],
          "name": "stdout"
        },
        {
          "output_type": "execute_result",
          "data": {
            "text/plain": [
              "<tensorflow.python.keras.callbacks.History at 0x7f39e778ff60>"
            ]
          },
          "metadata": {
            "tags": []
          },
          "execution_count": 14
        }
      ]
    },
    {
      "cell_type": "code",
      "metadata": {
        "id": "PtoccM8aeAOk",
        "colab_type": "code",
        "colab": {
          "base_uri": "https://localhost:8080/",
          "height": 163
        },
        "outputId": "032af70e-30e8-424a-a9e4-8b95f19ec6a1"
      },
      "source": [
        "model.save(\"/content/drive/My Drive/data/\")"
      ],
      "execution_count": 15,
      "outputs": [
        {
          "output_type": "stream",
          "text": [
            "WARNING:tensorflow:From /usr/local/lib/python3.6/dist-packages/tensorflow/python/training/tracking/tracking.py:111: Model.state_updates (from tensorflow.python.keras.engine.training) is deprecated and will be removed in a future version.\n",
            "Instructions for updating:\n",
            "This property should not be used in TensorFlow 2.0, as updates are applied automatically.\n",
            "WARNING:tensorflow:From /usr/local/lib/python3.6/dist-packages/tensorflow/python/training/tracking/tracking.py:111: Layer.updates (from tensorflow.python.keras.engine.base_layer) is deprecated and will be removed in a future version.\n",
            "Instructions for updating:\n",
            "This property should not be used in TensorFlow 2.0, as updates are applied automatically.\n",
            "INFO:tensorflow:Assets written to: /content/drive/My Drive/data/assets\n"
          ],
          "name": "stdout"
        }
      ]
    },
    {
      "cell_type": "code",
      "metadata": {
        "id": "tC9_2BYNhfd_",
        "colab_type": "code",
        "colab": {
          "base_uri": "https://localhost:8080/",
          "height": 35
        },
        "outputId": "50e49122-a5d6-4cf5-ff41-eb667a41b48e"
      },
      "source": [
        "\n",
        "im=cv2.imread(\"/content/drive/My Drive/78122243_p0_master1200.jpg\")\n",
        "print(im.shape)"
      ],
      "execution_count": 65,
      "outputs": [
        {
          "output_type": "stream",
          "text": [
            "(510, 655, 3)\n"
          ],
          "name": "stdout"
        }
      ]
    },
    {
      "cell_type": "code",
      "metadata": {
        "id": "lRDBfPOpq2mb",
        "colab_type": "code",
        "colab": {
          "base_uri": "https://localhost:8080/",
          "height": 35
        },
        "outputId": "2adc8e5b-a82f-4a0a-efb0-52763721a230"
      },
      "source": [
        "im=pre(im,model)\n",
        "cv2.imwrite(\"/content/drive/My Drive/data/SRCNN/1.jpg\",im,[int(cv2.IMWRITE_JPEG_QUALITY),100])"
      ],
      "execution_count": 66,
      "outputs": [
        {
          "output_type": "execute_result",
          "data": {
            "text/plain": [
              "True"
            ]
          },
          "metadata": {
            "tags": []
          },
          "execution_count": 66
        }
      ]
    },
    {
      "cell_type": "code",
      "metadata": {
        "id": "R0D_sO3QMtcI",
        "colab_type": "code",
        "colab": {}
      },
      "source": [
        "def pre(image: np.ndarray,model):\n",
        "    width = image.shape[0]\n",
        "    height = image.shape[1]\n",
        "    image=cv2.resize(image,(16*(width//16+1),16*(height//16+1)))\n",
        "    li = np.split(image, range(16, 16*(width//16+1), 16), axis=1)\n",
        "    r = []\n",
        "    for i in li:\n",
        "        r.append(np.split(i, range(16, 16*(height//16+1), 16), axis=0))\n",
        "    for i in range(len(r)):\n",
        "        for j in range(len(r[i])):\n",
        "            s = r[i][j].reshape(1, 16, 16, 3)\n",
        "            r[i][j] = s[0]\n",
        "    a1 = []\n",
        "    for i in range(len(r)):\n",
        "        a1.append(np.concatenate(r[i], axis=0))\n",
        "    a1 = np.concatenate(a1, axis=1)\n",
        "    a1=cv2.resize(a1,(height,width))\n",
        "    return a1\n"
      ],
      "execution_count": 51,
      "outputs": []
    }
  ]
}