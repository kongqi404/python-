{
  "nbformat": 4,
  "nbformat_minor": 0,
  "metadata": {
    "colab": {
      "name": "Untitled5.ipynb",
      "provenance": [],
      "collapsed_sections": [],
      "authorship_tag": "ABX9TyM5wRM+DYoHhAZfrNe6IYZW",
      "include_colab_link": true
    },
    "kernelspec": {
      "name": "python3",
      "display_name": "Python 3"
    }
  },
  "cells": [
    {
      "cell_type": "markdown",
      "metadata": {
        "id": "view-in-github",
        "colab_type": "text"
      },
      "source": [
        "<a href=\"https://colab.research.google.com/github/kongqiahaha/python-/blob/master/Untitled5.ipynb\" target=\"_parent\"><img src=\"https://colab.research.google.com/assets/colab-badge.svg\" alt=\"Open In Colab\"/></a>"
      ]
    },
    {
      "cell_type": "code",
      "metadata": {
        "id": "5E4u20TYd4Jw",
        "colab_type": "code",
        "colab": {}
      },
      "source": [
        "%tensorflow_version 2.x"
      ],
      "execution_count": null,
      "outputs": []
    },
    {
      "cell_type": "code",
      "metadata": {
        "id": "-0BPAn0OdTfU",
        "colab_type": "code",
        "colab": {}
      },
      "source": [
        "import matplotlib.pyplot as plt\n",
        "import numpy as np\n",
        "import tensorflow as tf\n"
      ],
      "execution_count": null,
      "outputs": []
    },
    {
      "cell_type": "code",
      "metadata": {
        "id": "TF9m_GSld9JG",
        "colab_type": "code",
        "colab": {}
      },
      "source": [
        "def Model():\n",
        "  models = tf.keras.Sequential(name=\"srcnn\")\n",
        "  models.add(tf.keras.layers.Conv2D(64,9,padding='SAME',activation=tf.keras.activations.relu,input_shape=(1920,1080,3,)))\n",
        "  models.add(tf.keras.layers.Conv2D(32,3,padding='SAME',activation=tf.keras.activations.relu))\n",
        "  \"\"\"\n",
        "  1*1卷积为可选\n",
        "  \"\"\"\n",
        "  models.add(tf.keras.layers.Conv2D(32,1,activation=tf.keras.activations.relu))\n",
        "  models.add(tf.keras.layers.Conv2D(3,5,padding='SAME'))\n",
        "  models.compile(optimizer='adam',loss=tf.keras.losses.binary_crossentropy,metrics=[\"accuracy\"])\n",
        "  return models\n"
      ],
      "execution_count": null,
      "outputs": []
    },
    {
      "cell_type": "code",
      "metadata": {
        "id": "BLkgQPYlhu9w",
        "colab_type": "code",
        "colab": {}
      },
      "source": [
        "model =Model()"
      ],
      "execution_count": null,
      "outputs": []
    },
    {
      "cell_type": "code",
      "metadata": {
        "id": "YIedde0fh6sm",
        "colab_type": "code",
        "colab": {
          "base_uri": "https://localhost:8080/",
          "height": 305
        },
        "outputId": "f4ccc630-ebc9-4971-a477-b0a54b6572b2"
      },
      "source": [
        "model.summary()"
      ],
      "execution_count": null,
      "outputs": [
        {
          "output_type": "stream",
          "text": [
            "Model: \"srcnn\"\n",
            "_________________________________________________________________\n",
            "Layer (type)                 Output Shape              Param #   \n",
            "=================================================================\n",
            "conv2d_7 (Conv2D)            (None, 1920, 1080, 64)    15616     \n",
            "_________________________________________________________________\n",
            "conv2d_8 (Conv2D)            (None, 1920, 1080, 32)    18464     \n",
            "_________________________________________________________________\n",
            "conv2d_9 (Conv2D)            (None, 1920, 1080, 32)    1056      \n",
            "_________________________________________________________________\n",
            "conv2d_10 (Conv2D)           (None, 1920, 1080, 3)     2403      \n",
            "=================================================================\n",
            "Total params: 37,539\n",
            "Trainable params: 37,539\n",
            "Non-trainable params: 0\n",
            "_________________________________________________________________\n"
          ],
          "name": "stdout"
        }
      ]
    },
    {
      "cell_type": "code",
      "metadata": {
        "id": "kMhR33gMkulp",
        "colab_type": "code",
        "colab": {}
      },
      "source": [
        ""
      ],
      "execution_count": null,
      "outputs": []
    }
  ]
}