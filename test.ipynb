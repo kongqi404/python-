{
  "nbformat": 4,
  "nbformat_minor": 0,
  "metadata": {
    "colab": {
      "name": "test.ipynb",
      "provenance": [],
      "collapsed_sections": [],
      "include_colab_link": true
    },
    "kernelspec": {
      "name": "python3",
      "display_name": "Python 3"
    }
  },
  "cells": [
    {
      "cell_type": "markdown",
      "metadata": {
        "id": "view-in-github",
        "colab_type": "text"
      },
      "source": [
        "<a href=\"https://colab.research.google.com/github/kongqiahaha/python-/blob/master/test.ipynb\" target=\"_parent\"><img src=\"https://colab.research.google.com/assets/colab-badge.svg\" alt=\"Open In Colab\"/></a>"
      ]
    },
    {
      "cell_type": "markdown",
      "metadata": {
        "id": "HJj8que7XMKB",
        "colab_type": "text"
      },
      "source": [
        "#归并排序"
      ]
    },
    {
      "cell_type": "code",
      "metadata": {
        "id": "FZDx3BeNuSdo",
        "colab_type": "code",
        "outputId": "f1a7766e-8450-42a3-c1a5-f7b218ffed9f",
        "colab": {
          "base_uri": "https://localhost:8080/",
          "height": 34
        }
      },
      "source": [
        "def hb(x1,x2):\n",
        "  n = []\n",
        "  i = j = 0\n",
        "  flag = True\n",
        "  while(flag):\n",
        "    if i == len(x1) or j == len(x2):\n",
        "      n = n+x1[i:]+x2[j:]\n",
        "      flag = False\n",
        "    else:\n",
        "      if x1[i] <= x2[j]:\n",
        "        n.append(x1[i])\n",
        "        i = i+1\n",
        "      else:\n",
        "        n.append(x2[j])\n",
        "        j = j+1\n",
        "  return n\n",
        "def gb(n):\n",
        "  if len(n)==1:\n",
        "    return n\n",
        "  else:\n",
        "    x = hb(gb(n[:len(n)//2]),gb(n[len(n)//2:]))\n",
        "    return x\n",
        "n = [1,5,6,8,4,11,3,2]\n",
        "gb(n)\n",
        "\n"
      ],
      "execution_count": 7,
      "outputs": [
        {
          "output_type": "execute_result",
          "data": {
            "text/plain": [
              "[1, 2, 3, 4, 5, 6, 8, 11]"
            ]
          },
          "metadata": {
            "tags": []
          },
          "execution_count": 7
        }
      ]
    },
    {
      "cell_type": "markdown",
      "metadata": {
        "id": "R4D4oiUn2QGy",
        "colab_type": "text"
      },
      "source": [
        "#随机化快速排序"
      ]
    },
    {
      "cell_type": "code",
      "metadata": {
        "id": "N9HHqSRp52sK",
        "colab_type": "code",
        "outputId": "eb41421a-59ea-444d-bf64-caadc8e90604",
        "colab": {
          "base_uri": "https://localhost:8080/",
          "height": 34
        }
      },
      "source": [
        "def quick_sort(data):      \n",
        "    if len(data) >= 2:       \n",
        "        mid = data[0]         \n",
        "        left, right = [], []      \n",
        "        data.remove(mid)      \n",
        "        for num in data:            \n",
        "            if num >= mid:                \n",
        "                right.append(num)            \n",
        "            else:                \n",
        "                left.append(num)        \n",
        "        return quick_sort(left) + [mid] + quick_sort(right)    \n",
        "    else:        \n",
        "        return data\n",
        "n =[1,5,8,3,4]\n",
        "quick_sort(n)"
      ],
      "execution_count": 6,
      "outputs": [
        {
          "output_type": "execute_result",
          "data": {
            "text/plain": [
              "[1, 3, 4, 5, 8]"
            ]
          },
          "metadata": {
            "tags": []
          },
          "execution_count": 6
        }
      ]
    },
    {
      "cell_type": "code",
      "metadata": {
        "id": "cU5mT4azFBAz",
        "colab_type": "code",
        "outputId": "eba98527-cc81-408e-f4d2-ee19b4bfad53",
        "colab": {
          "base_uri": "https://localhost:8080/",
          "height": 34
        }
      },
      "source": [
        "def quick_sort(array, l, r):\n",
        "    if l < r:\n",
        "        q = partition(array, l, r)\n",
        "        quick_sort(array, l, q - 1)\n",
        "        quick_sort(array, q + 1, r)\n",
        " \n",
        "def partition(array, l, r):\n",
        "    x = array[r]\n",
        "    i = l - 1\n",
        "    for j in range(l, r):\n",
        "        if array[j] <= x:\n",
        "            i += 1\n",
        "            array[i], array[j] = array[j], array[i]\n",
        "    array[i + 1], array[r] = array[r], array[i+1]\n",
        "    return i + 1\n",
        "n = [5,8,4,3]\n",
        "quick_sort(n,0,3)\n",
        "n"
      ],
      "execution_count": 9,
      "outputs": [
        {
          "output_type": "execute_result",
          "data": {
            "text/plain": [
              "[3, 4, 5, 8]"
            ]
          },
          "metadata": {
            "tags": []
          },
          "execution_count": 9
        }
      ]
    },
    {
      "cell_type": "code",
      "metadata": {
        "id": "BH3oLD9Ic7F6",
        "colab_type": "code",
        "colab": {}
      },
      "source": [
        ""
      ],
      "execution_count": 0,
      "outputs": []
    }
  ]
}