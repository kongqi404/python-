{
  "nbformat": 4,
  "nbformat_minor": 0,
  "metadata": {
    "colab": {
      "name": "test.ipynb",
      "provenance": [],
      "collapsed_sections": [],
      "include_colab_link": true
    },
    "kernelspec": {
      "name": "python3",
      "display_name": "Python 3"
    }
  },
  "cells": [
    {
      "cell_type": "markdown",
      "metadata": {
        "id": "view-in-github",
        "colab_type": "text"
      },
      "source": [
        "<a href=\"https://colab.research.google.com/github/kongqiahaha/python-/blob/master/test.ipynb\" target=\"_parent\"><img src=\"https://colab.research.google.com/assets/colab-badge.svg\" alt=\"Open In Colab\"/></a>"
      ]
    },
    {
      "cell_type": "code",
      "metadata": {
        "id": "FZDx3BeNuSdo",
        "colab_type": "code",
        "outputId": "d7561cb8-ed5f-433b-a122-aaee2c2c3557",
        "colab": {
          "base_uri": "https://localhost:8080/",
          "height": 34
        }
      },
      "source": [
        "def hb(x1,x2):\n",
        "  n = []\n",
        "  i = j = 0\n",
        "  flag = True\n",
        "  while(flag):\n",
        "    if i == len(x1) or j == len(x2):\n",
        "      n = n+x1[i:]+x2[j:]\n",
        "      flag = False\n",
        "    else:\n",
        "      if x1[i] <= x2[j]:\n",
        "        n.append(x1[i])\n",
        "        i = i+1\n",
        "      else:\n",
        "        n.append(x2[j])\n",
        "        j = j+1\n",
        "  return n\n",
        "def gb(n):\n",
        "  if len(n)==1:\n",
        "    return n[:1]\n",
        "  else:\n",
        "    x = hb(gb(n[:len(n)//2]),gb(n[len(n)//2:]))\n",
        "    return x\n",
        "n = [5,3,6,1,6,7]\n",
        "gb(n)\n",
        "\n"
      ],
      "execution_count": 70,
      "outputs": [
        {
          "output_type": "execute_result",
          "data": {
            "text/plain": [
              "[1, 3, 5, 6, 6, 7]"
            ]
          },
          "metadata": {
            "tags": []
          },
          "execution_count": 70
        }
      ]
    },
    {
      "cell_type": "markdown",
      "metadata": {
        "id": "R4D4oiUn2QGy",
        "colab_type": "text"
      },
      "source": [
        "#归并算法"
      ]
    }
  ]
}