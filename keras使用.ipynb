{
  "nbformat": 4,
  "nbformat_minor": 0,
  "metadata": {
    "colab": {
      "name": "keras使用.ipynb",
      "provenance": [],
      "mount_file_id": "17WVU2jxQLVLy2YaEELcZAX_91SGE-RHr",
      "authorship_tag": "ABX9TyPQeFZ9rVdil5whenOMNaWM",
      "include_colab_link": true
    },
    "kernelspec": {
      "name": "python3",
      "display_name": "Python 3"
    }
  },
  "cells": [
    {
      "cell_type": "markdown",
      "metadata": {
        "id": "view-in-github",
        "colab_type": "text"
      },
      "source": [
        "<a href=\"https://colab.research.google.com/github/kongqiahaha/python-/blob/master/keras%E4%BD%BF%E7%94%A8.ipynb\" target=\"_parent\"><img src=\"https://colab.research.google.com/assets/colab-badge.svg\" alt=\"Open In Colab\"/></a>"
      ]
    },
    {
      "cell_type": "code",
      "metadata": {
        "id": "-LKJhObAWo0r",
        "colab_type": "code",
        "colab": {}
      },
      "source": [
        "import sys\n",
        "sys.path.insert(0,\"./drive/My Drive/data/keras使用\")"
      ],
      "execution_count": 0,
      "outputs": []
    },
    {
      "cell_type": "code",
      "metadata": {
        "id": "SvELrCP_XI0h",
        "colab_type": "code",
        "colab": {
          "base_uri": "https://localhost:8080/",
          "height": 82
        },
        "outputId": "7dbc9178-aa0c-4f60-eb4f-972dfdff7dc5"
      },
      "source": [
        "#%tensorflow_version 2.x\n",
        "import numpy as np\n",
        "#import tensorflow as tf\n",
        "from keras import layers\n",
        "from keras.layers import Input, Dense, Activation, ZeroPadding2D, BatchNormalization, Flatten, Conv2D\n",
        "from keras.layers import AveragePooling2D, MaxPooling2D, Dropout, GlobalMaxPooling2D, GlobalAveragePooling2D\n",
        "from keras.models import Model\n",
        "from keras.preprocessing import image\n",
        "from keras.utils import layer_utils\n",
        "from keras.utils.data_utils import get_file\n",
        "from keras.applications.imagenet_utils import preprocess_input\n",
        "import pydot\n",
        "from IPython.display import SVG\n",
        "from keras.utils.vis_utils import model_to_dot\n",
        "from keras.utils import plot_model\n",
        "from kt_utils import *\n",
        "\n",
        "import keras.backend as K\n",
        "K.set_image_data_format('channels_last')\n",
        "import matplotlib.pyplot as plt\n",
        "from matplotlib.pyplot import imshow\n",
        "\n"
      ],
      "execution_count": 2,
      "outputs": [
        {
          "output_type": "stream",
          "text": [
            "Using TensorFlow backend.\n"
          ],
          "name": "stderr"
        },
        {
          "output_type": "display_data",
          "data": {
            "text/html": [
              "<p style=\"color: red;\">\n",
              "The default version of TensorFlow in Colab will soon switch to TensorFlow 2.x.<br>\n",
              "We recommend you <a href=\"https://www.tensorflow.org/guide/migrate\" target=\"_blank\">upgrade</a> now \n",
              "or ensure your notebook will continue to use TensorFlow 1.x via the <code>%tensorflow_version 1.x</code> magic:\n",
              "<a href=\"https://colab.research.google.com/notebooks/tensorflow_version.ipynb\" target=\"_blank\">more info</a>.</p>\n"
            ],
            "text/plain": [
              "<IPython.core.display.HTML object>"
            ]
          },
          "metadata": {
            "tags": []
          }
        }
      ]
    },
    {
      "cell_type": "code",
      "metadata": {
        "id": "Yyu1iVcPazux",
        "colab_type": "code",
        "colab": {
          "base_uri": "https://localhost:8080/",
          "height": 125
        },
        "outputId": "320ff763-ed12-4286-aa7c-5fd9236f931c"
      },
      "source": [
        "X_train_orig, Y_train_orig, X_test_orig, Y_test_orig, classes = load_dataset()\n",
        "\n",
        "# Normalize image vectors\n",
        "X_train = X_train_orig/255.\n",
        "X_test = X_test_orig/255.\n",
        "\n",
        "# Reshape\n",
        "Y_train = Y_train_orig.T\n",
        "Y_test = Y_test_orig.T\n",
        "\n",
        "print (\"number of training examples = \" + str(X_train.shape[0]))\n",
        "print (\"number of test examples = \" + str(X_test.shape[0]))\n",
        "print (\"X_train shape: \" + str(X_train.shape))\n",
        "print (\"Y_train shape: \" + str(Y_train.shape))\n",
        "print (\"X_test shape: \" + str(X_test.shape))\n",
        "print (\"Y_test shape: \" + str(Y_test.shape))"
      ],
      "execution_count": 3,
      "outputs": [
        {
          "output_type": "stream",
          "text": [
            "number of training examples = 600\n",
            "number of test examples = 150\n",
            "X_train shape: (600, 64, 64, 3)\n",
            "Y_train shape: (600, 1)\n",
            "X_test shape: (150, 64, 64, 3)\n",
            "Y_test shape: (150, 1)\n"
          ],
          "name": "stdout"
        }
      ]
    },
    {
      "cell_type": "code",
      "metadata": {
        "id": "0vD8NPgdbHva",
        "colab_type": "code",
        "colab": {}
      },
      "source": [
        "def model(input_shape):\n",
        "  X_input = Input(input_shape)\n",
        "  X = ZeroPadding2D((3, 3))(X_input)\n",
        "  X = Conv2D(32, (7, 7), strides = (1, 1), name = 'conv0')(X)\n",
        "  X = BatchNormalization(axis = 3, name = 'bn0')(X)\n",
        "  X = Activation('relu')(X)\n",
        "  X = MaxPooling2D((2, 2), name='max_pool')(X)\n",
        "  X = Flatten()(X)\n",
        "  X = Dense(1, activation='sigmoid', name='fc')(X)\n",
        "  model = Model(inputs = X_input, outputs = X, name='HappyModel')\n",
        "  return model\n"
      ],
      "execution_count": 0,
      "outputs": []
    },
    {
      "cell_type": "code",
      "metadata": {
        "id": "75AZsWdOe70y",
        "colab_type": "code",
        "colab": {}
      },
      "source": [
        "def HappyModel(input_shape):\n",
        "  X_input = Input(shape=input_shape)\n",
        "  X = ZeroPadding2D(padding=(1, 1))(X_input)\n",
        "  X = Conv2D(8, kernel_size=(3,3), strides=(1,1))(X)\n",
        "  X = BatchNormalization(axis=3)(X)\n",
        "  X = Activation('relu')(X)\n",
        "  X = MaxPooling2D(pool_size=(2,2), strides=(2,2), padding='valid')(X)\n",
        "  X = ZeroPadding2D(padding=(1, 1))(X)\n",
        "  X = Conv2D(16, kernel_size=(3,3), strides=(1,1))(X)\n",
        "  X = BatchNormalization(axis=3)(X)\n",
        "  X = Activation('relu')(X)\n",
        "  X = MaxPooling2D(pool_size=(2,2), strides=(2,2), padding='valid')(X)\n",
        "  X = ZeroPadding2D(padding=(1, 1))(X)\n",
        "  X = Conv2D(32, kernel_size=(3,3), strides=(1,1))(X)\n",
        "  X = BatchNormalization(axis=3)(X)\n",
        "  X = Activation('relu')(X)\n",
        "  X = MaxPooling2D(pool_size=(2,2), strides=(2,2), padding='valid')(X)\n",
        "  X = Flatten()(X)\n",
        "  Y = Dense(1, activation='sigmoid')(X)\n",
        "  model = Model(inputs = X_input, outputs = Y, name='HappyModel')\n",
        "  return model"
      ],
      "execution_count": 0,
      "outputs": []
    },
    {
      "cell_type": "code",
      "metadata": {
        "id": "4_1604TYg7Hk",
        "colab_type": "code",
        "colab": {
          "base_uri": "https://localhost:8080/",
          "height": 449
        },
        "outputId": "bc54f8d7-fa71-4553-8350-01d398b7d166"
      },
      "source": [
        "happyModel = HappyModel((64, 64, 3))"
      ],
      "execution_count": 6,
      "outputs": [
        {
          "output_type": "stream",
          "text": [
            "WARNING:tensorflow:From /usr/local/lib/python3.6/dist-packages/keras/backend/tensorflow_backend.py:66: The name tf.get_default_graph is deprecated. Please use tf.compat.v1.get_default_graph instead.\n",
            "\n",
            "WARNING:tensorflow:From /usr/local/lib/python3.6/dist-packages/keras/backend/tensorflow_backend.py:541: The name tf.placeholder is deprecated. Please use tf.compat.v1.placeholder instead.\n",
            "\n",
            "WARNING:tensorflow:From /usr/local/lib/python3.6/dist-packages/keras/backend/tensorflow_backend.py:4432: The name tf.random_uniform is deprecated. Please use tf.random.uniform instead.\n",
            "\n",
            "WARNING:tensorflow:From /usr/local/lib/python3.6/dist-packages/keras/backend/tensorflow_backend.py:190: The name tf.get_default_session is deprecated. Please use tf.compat.v1.get_default_session instead.\n",
            "\n",
            "WARNING:tensorflow:From /usr/local/lib/python3.6/dist-packages/keras/backend/tensorflow_backend.py:197: The name tf.ConfigProto is deprecated. Please use tf.compat.v1.ConfigProto instead.\n",
            "\n",
            "WARNING:tensorflow:From /usr/local/lib/python3.6/dist-packages/keras/backend/tensorflow_backend.py:203: The name tf.Session is deprecated. Please use tf.compat.v1.Session instead.\n",
            "\n",
            "WARNING:tensorflow:From /usr/local/lib/python3.6/dist-packages/keras/backend/tensorflow_backend.py:207: The name tf.global_variables is deprecated. Please use tf.compat.v1.global_variables instead.\n",
            "\n",
            "WARNING:tensorflow:From /usr/local/lib/python3.6/dist-packages/keras/backend/tensorflow_backend.py:216: The name tf.is_variable_initialized is deprecated. Please use tf.compat.v1.is_variable_initialized instead.\n",
            "\n",
            "WARNING:tensorflow:From /usr/local/lib/python3.6/dist-packages/keras/backend/tensorflow_backend.py:223: The name tf.variables_initializer is deprecated. Please use tf.compat.v1.variables_initializer instead.\n",
            "\n",
            "WARNING:tensorflow:From /usr/local/lib/python3.6/dist-packages/keras/backend/tensorflow_backend.py:2041: The name tf.nn.fused_batch_norm is deprecated. Please use tf.compat.v1.nn.fused_batch_norm instead.\n",
            "\n",
            "WARNING:tensorflow:From /usr/local/lib/python3.6/dist-packages/keras/backend/tensorflow_backend.py:148: The name tf.placeholder_with_default is deprecated. Please use tf.compat.v1.placeholder_with_default instead.\n",
            "\n",
            "WARNING:tensorflow:From /usr/local/lib/python3.6/dist-packages/keras/backend/tensorflow_backend.py:4267: The name tf.nn.max_pool is deprecated. Please use tf.nn.max_pool2d instead.\n",
            "\n"
          ],
          "name": "stdout"
        }
      ]
    },
    {
      "cell_type": "code",
      "metadata": {
        "id": "FzYOrFYVhAdf",
        "colab_type": "code",
        "colab": {
          "base_uri": "https://localhost:8080/",
          "height": 143
        },
        "outputId": "63744172-9a29-427c-9650-c1a8d1948903"
      },
      "source": [
        "import keras\n",
        "happyModel.compile(optimizer=keras.optimizers.Adam(lr=0.001, beta_1=0.9, beta_2=0.999, epsilon=1e-08, decay=0.0), loss='binary_crossentropy', metrics=['accuracy'])"
      ],
      "execution_count": 7,
      "outputs": [
        {
          "output_type": "stream",
          "text": [
            "WARNING:tensorflow:From /usr/local/lib/python3.6/dist-packages/keras/optimizers.py:793: The name tf.train.Optimizer is deprecated. Please use tf.compat.v1.train.Optimizer instead.\n",
            "\n",
            "WARNING:tensorflow:From /usr/local/lib/python3.6/dist-packages/keras/backend/tensorflow_backend.py:3657: The name tf.log is deprecated. Please use tf.math.log instead.\n",
            "\n",
            "WARNING:tensorflow:From /usr/local/lib/python3.6/dist-packages/tensorflow_core/python/ops/nn_impl.py:183: where (from tensorflow.python.ops.array_ops) is deprecated and will be removed in a future version.\n",
            "Instructions for updating:\n",
            "Use tf.where in 2.0, which has the same broadcast rule as np.where\n"
          ],
          "name": "stdout"
        }
      ]
    },
    {
      "cell_type": "code",
      "metadata": {
        "id": "2Yi8FWaHhWrX",
        "colab_type": "code",
        "colab": {
          "base_uri": "https://localhost:8080/",
          "height": 827
        },
        "outputId": "89d1650d-c01f-4440-a998-7c7e378685c8"
      },
      "source": [
        "happyModel.fit(x=X_train, y=Y_train, batch_size=16, epochs=20)"
      ],
      "execution_count": 8,
      "outputs": [
        {
          "output_type": "stream",
          "text": [
            "WARNING:tensorflow:From /usr/local/lib/python3.6/dist-packages/keras/backend/tensorflow_backend.py:1033: The name tf.assign_add is deprecated. Please use tf.compat.v1.assign_add instead.\n",
            "\n",
            "WARNING:tensorflow:From /usr/local/lib/python3.6/dist-packages/keras/backend/tensorflow_backend.py:1020: The name tf.assign is deprecated. Please use tf.compat.v1.assign instead.\n",
            "\n",
            "Epoch 1/20\n",
            "600/600 [==============================] - 4s 7ms/step - loss: 0.5017 - acc: 0.7467\n",
            "Epoch 2/20\n",
            "600/600 [==============================] - 3s 5ms/step - loss: 0.2021 - acc: 0.9417\n",
            "Epoch 3/20\n",
            "600/600 [==============================] - 3s 5ms/step - loss: 0.1351 - acc: 0.9733\n",
            "Epoch 4/20\n",
            "600/600 [==============================] - 3s 5ms/step - loss: 0.1073 - acc: 0.9733\n",
            "Epoch 5/20\n",
            "600/600 [==============================] - 3s 5ms/step - loss: 0.0880 - acc: 0.9833\n",
            "Epoch 6/20\n",
            "600/600 [==============================] - 3s 5ms/step - loss: 0.0757 - acc: 0.9817\n",
            "Epoch 7/20\n",
            "600/600 [==============================] - 3s 5ms/step - loss: 0.0529 - acc: 0.9900\n",
            "Epoch 8/20\n",
            "600/600 [==============================] - 3s 5ms/step - loss: 0.0433 - acc: 0.9900\n",
            "Epoch 9/20\n",
            "600/600 [==============================] - 3s 5ms/step - loss: 0.0371 - acc: 0.9933\n",
            "Epoch 10/20\n",
            "600/600 [==============================] - 3s 5ms/step - loss: 0.0337 - acc: 0.9933\n",
            "Epoch 11/20\n",
            "600/600 [==============================] - 3s 5ms/step - loss: 0.0264 - acc: 0.9933\n",
            "Epoch 12/20\n",
            "600/600 [==============================] - 3s 5ms/step - loss: 0.0263 - acc: 0.9933\n",
            "Epoch 13/20\n",
            "600/600 [==============================] - 3s 5ms/step - loss: 0.0311 - acc: 0.9933\n",
            "Epoch 14/20\n",
            "600/600 [==============================] - 3s 5ms/step - loss: 0.0210 - acc: 0.9967\n",
            "Epoch 15/20\n",
            "600/600 [==============================] - 3s 5ms/step - loss: 0.0178 - acc: 0.9967\n",
            "Epoch 16/20\n",
            "600/600 [==============================] - 3s 5ms/step - loss: 0.0179 - acc: 0.9983\n",
            "Epoch 17/20\n",
            "600/600 [==============================] - 3s 5ms/step - loss: 0.0111 - acc: 0.9967\n",
            "Epoch 18/20\n",
            "600/600 [==============================] - 3s 5ms/step - loss: 0.0211 - acc: 0.9933\n",
            "Epoch 19/20\n",
            "600/600 [==============================] - 3s 5ms/step - loss: 0.0136 - acc: 0.9983\n",
            "Epoch 20/20\n",
            "600/600 [==============================] - 3s 5ms/step - loss: 0.0148 - acc: 0.9967\n"
          ],
          "name": "stdout"
        },
        {
          "output_type": "execute_result",
          "data": {
            "text/plain": [
              "<keras.callbacks.History at 0x7f92c427deb8>"
            ]
          },
          "metadata": {
            "tags": []
          },
          "execution_count": 8
        }
      ]
    },
    {
      "cell_type": "code",
      "metadata": {
        "id": "IA67e6uSh-XS",
        "colab_type": "code",
        "colab": {
          "base_uri": "https://localhost:8080/",
          "height": 35
        },
        "outputId": "068f6d69-6f15-44bd-c2b0-88f2c3caeeb2"
      },
      "source": [
        "preds = happyModel.evaluate(x=X_test, y=Y_test)"
      ],
      "execution_count": 9,
      "outputs": [
        {
          "output_type": "stream",
          "text": [
            "150/150 [==============================] - 0s 3ms/step\n"
          ],
          "name": "stdout"
        }
      ]
    },
    {
      "cell_type": "code",
      "metadata": {
        "id": "U_lsUqwziBDP",
        "colab_type": "code",
        "colab": {
          "base_uri": "https://localhost:8080/",
          "height": 71
        },
        "outputId": "0fc36239-9fdd-49ad-f747-f5e1023595a8"
      },
      "source": [
        "print()\n",
        "print (\"Loss = \" + str(preds[0]))\n",
        "print (\"Test Accuracy = \" + str(preds[1]))"
      ],
      "execution_count": 10,
      "outputs": [
        {
          "output_type": "stream",
          "text": [
            "\n",
            "Loss = 0.07679854204257329\n",
            "Test Accuracy = 0.980000003973643\n"
          ],
          "name": "stdout"
        }
      ]
    },
    {
      "cell_type": "code",
      "metadata": {
        "id": "9K5wBsO1ime9",
        "colab_type": "code",
        "colab": {}
      },
      "source": [
        "\n",
        "img_path = '3.jpg'\n",
        "\n",
        "img = image.load_img(img_path, target_size=(64, 64))\n",
        "imshow(img)\n",
        "\n",
        "x = image.img_to_array(img)\n",
        "x = np.expand_dims(x, axis=0)\n",
        "x = preprocess_input(x)\n",
        "\n",
        "predect=int(np.squeeze(happyModel.predict(x)))\n",
        "if predect == 1:\n",
        "  print(\"ta看起来很快乐\")\n",
        "else:\n",
        "  print(\"ta看起来不快乐\")"
      ],
      "execution_count": 0,
      "outputs": []
    }
  ]
}